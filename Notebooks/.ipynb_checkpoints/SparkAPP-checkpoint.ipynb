{
 "cells": [
  {
   "cell_type": "code",
   "execution_count": 22,
   "id": "a13c771c",
   "metadata": {},
   "outputs": [],
   "source": [
    "#Importing the packages\n",
    "from pyspark.sql import SparkSession\n",
    "from pyspark.sql.types import StructType, StructField, IntegerType, StringType\n",
    "import pyspark.sql.functions as F"
   ]
  },
  {
   "cell_type": "code",
   "execution_count": 3,
   "id": "0b1dc584",
   "metadata": {},
   "outputs": [],
   "source": [
    "#Creating the SparkSession\n",
    "spark = SparkSession.builder.appName(\"FirstApp\").getOrCreate()"
   ]
  },
  {
   "cell_type": "code",
   "execution_count": 4,
   "id": "9fd551ec",
   "metadata": {},
   "outputs": [],
   "source": [
    "#Defining schema for your DataFrame\n",
    "myschema = StructType([\\\n",
    "                       StructField(\"userID\", IntegerType(), True),\n",
    "                       StructField(\"name\", StringType(), True),\n",
    "                       StructField(\"age\",IntegerType(), True),\n",
    "                       StructField(\"friends\",IntegerType(), True),\n",
    "                        ])"
   ]
  },
  {
   "cell_type": "code",
   "execution_count": 5,
   "id": "912ecbee",
   "metadata": {},
   "outputs": [],
   "source": [
    "#Creating DataFrame on a CSV file\n",
    "people = spark.read.format(\"csv\")\\\n",
    "    .schema(myschema)\\\n",
    "    .option(\"path\",\"fakefriends.csv\")\\\n",
    "    .load()"
   ]
  },
  {
   "cell_type": "code",
   "execution_count": 6,
   "id": "5b0aadba",
   "metadata": {},
   "outputs": [],
   "source": [
    "#Performing all thetransformations\n",
    "output = people.select(people.userID,people.name\\\n",
    "                       ,people.age,people.friends)\\\n",
    "         .where(people.age < 30).withColumn('insert_ts', F.current_timestamp())\\\n",
    "         .orderBy(people.userID)"
   ]
  },
  {
   "cell_type": "code",
   "execution_count": 7,
   "id": "63b6e2d5",
   "metadata": {},
   "outputs": [
    {
     "data": {
      "text/plain": [
       "112"
      ]
     },
     "execution_count": 7,
     "metadata": {},
     "output_type": "execute_result"
    }
   ],
   "source": [
    "#taking the count of o/p DataFrame\n",
    "output.count()"
   ]
  },
  {
   "cell_type": "code",
   "execution_count": 8,
   "id": "c8756adf",
   "metadata": {},
   "outputs": [],
   "source": [
    "#Creating a Temp View\n",
    "output.createOrReplaceTempView(\"peoples\")"
   ]
  },
  {
   "cell_type": "code",
   "execution_count": 11,
   "id": "e8e32b91",
   "metadata": {},
   "outputs": [],
   "source": [
    "#Running a simple Spark SQL query\n",
    "df = spark.table(\"peoples\")"
   ]
  },
  {
   "cell_type": "code",
   "execution_count": 12,
   "id": "4b9b7d1c",
   "metadata": {},
   "outputs": [
    {
     "name": "stdout",
     "output_type": "stream",
     "text": [
      "+------+--------+---+-------+--------------------+\n",
      "|userID|    name|age|friends|           insert_ts|\n",
      "+------+--------+---+-------+--------------------+\n",
      "|     1|Jean-Luc| 26|      2|2023-12-21 19:35:...|\n",
      "|     9|    Hugh| 27|    181|2023-12-21 19:35:...|\n",
      "|    16|  Weyoun| 22|    323|2023-12-21 19:35:...|\n",
      "|    21|   Miles| 19|    268|2023-12-21 19:35:...|\n",
      "|    24|  Julian| 25|      1|2023-12-21 19:35:...|\n",
      "|    25|     Ben| 21|    445|2023-12-21 19:35:...|\n",
      "|    26|  Julian| 22|    100|2023-12-21 19:35:...|\n",
      "|    32|     Nog| 26|    281|2023-12-21 19:35:...|\n",
      "|    35| Beverly| 27|    305|2023-12-21 19:35:...|\n",
      "|    46|    Morn| 25|     96|2023-12-21 19:35:...|\n",
      "|    47|   Brunt| 24|     49|2023-12-21 19:35:...|\n",
      "|    48|     Nog| 20|      1|2023-12-21 19:35:...|\n",
      "|    52| Beverly| 19|    269|2023-12-21 19:35:...|\n",
      "|    54|   Brunt| 19|      5|2023-12-21 19:35:...|\n",
      "|    60|  Geordi| 20|    100|2023-12-21 19:35:...|\n",
      "|    66|  Geordi| 21|    477|2023-12-21 19:35:...|\n",
      "|    72|  Kasidy| 22|    179|2023-12-21 19:35:...|\n",
      "|    73|   Brunt| 20|    384|2023-12-21 19:35:...|\n",
      "|    84|     Ben| 28|    311|2023-12-21 19:35:...|\n",
      "|    89|    Worf| 24|    492|2023-12-21 19:35:...|\n",
      "+------+--------+---+-------+--------------------+\n",
      "only showing top 20 rows\n",
      "\n"
     ]
    }
   ],
   "source": [
    "df.show()"
   ]
  },
  {
   "cell_type": "code",
   "execution_count": 51,
   "id": "bd6ec150",
   "metadata": {},
   "outputs": [
    {
     "name": "stdout",
     "output_type": "stream",
     "text": [
      "+-------+-----------+---+\n",
      "|   name|friends_sum|qty|\n",
      "+-------+-----------+---+\n",
      "|Beverly|       2833|  8|\n",
      "| Kasidy|       1538|  7|\n",
      "|  Brunt|        961|  7|\n",
      "|  Dukat|       1565|  6|\n",
      "|    Nog|       1208|  6|\n",
      "+-------+-----------+---+\n",
      "only showing top 5 rows\n",
      "\n"
     ]
    }
   ],
   "source": [
    "df.groupBy(\"name\")\\\n",
    ".agg(F.sum(\"friends\").alias(\"friends_sum\"), F.countDistinct(\"friends\").alias(\"qty\"))\\\n",
    ".orderBy(F.col(\"qty\").desc())\\\n",
    ".show(5)"
   ]
  },
  {
   "cell_type": "code",
   "execution_count": 59,
   "id": "35b2160a",
   "metadata": {},
   "outputs": [
    {
     "data": {
      "text/plain": [
       "DataFrame[]"
      ]
     },
     "execution_count": 59,
     "metadata": {},
     "output_type": "execute_result"
    }
   ],
   "source": [
    "spark.sql(\"create database learn_spark_db\")\n",
    "spark.sql(\"use learn_spark_db\")"
   ]
  },
  {
   "cell_type": "code",
   "execution_count": 61,
   "id": "e7a207fd",
   "metadata": {},
   "outputs": [
    {
     "ename": "AnalysisException",
     "evalue": "[NOT_SUPPORTED_COMMAND_WITHOUT_HIVE_SUPPORT] CREATE Hive TABLE (AS SELECT) is not supported, if you want to enable it, please set \"spark.sql.catalogImplementation\" to \"hive\".;\n'CreateTable `spark_catalog`.`learn_spark_db`.`friends_list`, org.apache.hadoop.hive.serde2.lazy.LazySimpleSerDe, ErrorIfExists\n+- Project [userID#0, name#1, age#2, friends#3, insert_ts#13]\n   +- SubqueryAlias peoples\n      +- View (`peoples`, [userID#0,name#1,age#2,friends#3,insert_ts#13])\n         +- Sort [userID#0 ASC NULLS FIRST], true\n            +- Project [userID#0, name#1, age#2, friends#3, current_timestamp() AS insert_ts#13]\n               +- Filter (age#2 < 30)\n                  +- Project [userID#0, name#1, age#2, friends#3]\n                     +- Relation [userID#0,name#1,age#2,friends#3] csv\n",
     "output_type": "error",
     "traceback": [
      "\u001b[1;31m---------------------------------------------------------------------------\u001b[0m",
      "\u001b[1;31mAnalysisException\u001b[0m                         Traceback (most recent call last)",
      "Cell \u001b[1;32mIn[61], line 1\u001b[0m\n\u001b[1;32m----> 1\u001b[0m spark\u001b[38;5;241m.\u001b[39msql(\u001b[38;5;124m\"\u001b[39m\u001b[38;5;124mcreate table friends_list as select * from peoples\u001b[39m\u001b[38;5;124m\"\u001b[39m)\n",
      "File \u001b[1;32m~\\AppData\\Local\\anaconda3\\Lib\\site-packages\\pyspark\\sql\\session.py:1631\u001b[0m, in \u001b[0;36mSparkSession.sql\u001b[1;34m(self, sqlQuery, args, **kwargs)\u001b[0m\n\u001b[0;32m   1627\u001b[0m         \u001b[38;5;28;01massert\u001b[39;00m \u001b[38;5;28mself\u001b[39m\u001b[38;5;241m.\u001b[39m_jvm \u001b[38;5;129;01mis\u001b[39;00m \u001b[38;5;129;01mnot\u001b[39;00m \u001b[38;5;28;01mNone\u001b[39;00m\n\u001b[0;32m   1628\u001b[0m         litArgs \u001b[38;5;241m=\u001b[39m \u001b[38;5;28mself\u001b[39m\u001b[38;5;241m.\u001b[39m_jvm\u001b[38;5;241m.\u001b[39mPythonUtils\u001b[38;5;241m.\u001b[39mtoArray(\n\u001b[0;32m   1629\u001b[0m             [_to_java_column(lit(v)) \u001b[38;5;28;01mfor\u001b[39;00m v \u001b[38;5;129;01min\u001b[39;00m (args \u001b[38;5;129;01mor\u001b[39;00m [])]\n\u001b[0;32m   1630\u001b[0m         )\n\u001b[1;32m-> 1631\u001b[0m     \u001b[38;5;28;01mreturn\u001b[39;00m DataFrame(\u001b[38;5;28mself\u001b[39m\u001b[38;5;241m.\u001b[39m_jsparkSession\u001b[38;5;241m.\u001b[39msql(sqlQuery, litArgs), \u001b[38;5;28mself\u001b[39m)\n\u001b[0;32m   1632\u001b[0m \u001b[38;5;28;01mfinally\u001b[39;00m:\n\u001b[0;32m   1633\u001b[0m     \u001b[38;5;28;01mif\u001b[39;00m \u001b[38;5;28mlen\u001b[39m(kwargs) \u001b[38;5;241m>\u001b[39m \u001b[38;5;241m0\u001b[39m:\n",
      "File \u001b[1;32m~\\AppData\\Local\\anaconda3\\Lib\\site-packages\\py4j\\java_gateway.py:1322\u001b[0m, in \u001b[0;36mJavaMember.__call__\u001b[1;34m(self, *args)\u001b[0m\n\u001b[0;32m   1316\u001b[0m command \u001b[38;5;241m=\u001b[39m proto\u001b[38;5;241m.\u001b[39mCALL_COMMAND_NAME \u001b[38;5;241m+\u001b[39m\\\n\u001b[0;32m   1317\u001b[0m     \u001b[38;5;28mself\u001b[39m\u001b[38;5;241m.\u001b[39mcommand_header \u001b[38;5;241m+\u001b[39m\\\n\u001b[0;32m   1318\u001b[0m     args_command \u001b[38;5;241m+\u001b[39m\\\n\u001b[0;32m   1319\u001b[0m     proto\u001b[38;5;241m.\u001b[39mEND_COMMAND_PART\n\u001b[0;32m   1321\u001b[0m answer \u001b[38;5;241m=\u001b[39m \u001b[38;5;28mself\u001b[39m\u001b[38;5;241m.\u001b[39mgateway_client\u001b[38;5;241m.\u001b[39msend_command(command)\n\u001b[1;32m-> 1322\u001b[0m return_value \u001b[38;5;241m=\u001b[39m get_return_value(\n\u001b[0;32m   1323\u001b[0m     answer, \u001b[38;5;28mself\u001b[39m\u001b[38;5;241m.\u001b[39mgateway_client, \u001b[38;5;28mself\u001b[39m\u001b[38;5;241m.\u001b[39mtarget_id, \u001b[38;5;28mself\u001b[39m\u001b[38;5;241m.\u001b[39mname)\n\u001b[0;32m   1325\u001b[0m \u001b[38;5;28;01mfor\u001b[39;00m temp_arg \u001b[38;5;129;01min\u001b[39;00m temp_args:\n\u001b[0;32m   1326\u001b[0m     \u001b[38;5;28;01mif\u001b[39;00m \u001b[38;5;28mhasattr\u001b[39m(temp_arg, \u001b[38;5;124m\"\u001b[39m\u001b[38;5;124m_detach\u001b[39m\u001b[38;5;124m\"\u001b[39m):\n",
      "File \u001b[1;32m~\\AppData\\Local\\anaconda3\\Lib\\site-packages\\pyspark\\errors\\exceptions\\captured.py:185\u001b[0m, in \u001b[0;36mcapture_sql_exception.<locals>.deco\u001b[1;34m(*a, **kw)\u001b[0m\n\u001b[0;32m    181\u001b[0m converted \u001b[38;5;241m=\u001b[39m convert_exception(e\u001b[38;5;241m.\u001b[39mjava_exception)\n\u001b[0;32m    182\u001b[0m \u001b[38;5;28;01mif\u001b[39;00m \u001b[38;5;129;01mnot\u001b[39;00m \u001b[38;5;28misinstance\u001b[39m(converted, UnknownException):\n\u001b[0;32m    183\u001b[0m     \u001b[38;5;66;03m# Hide where the exception came from that shows a non-Pythonic\u001b[39;00m\n\u001b[0;32m    184\u001b[0m     \u001b[38;5;66;03m# JVM exception message.\u001b[39;00m\n\u001b[1;32m--> 185\u001b[0m     \u001b[38;5;28;01mraise\u001b[39;00m converted \u001b[38;5;28;01mfrom\u001b[39;00m \u001b[38;5;28;01mNone\u001b[39;00m\n\u001b[0;32m    186\u001b[0m \u001b[38;5;28;01melse\u001b[39;00m:\n\u001b[0;32m    187\u001b[0m     \u001b[38;5;28;01mraise\u001b[39;00m\n",
      "\u001b[1;31mAnalysisException\u001b[0m: [NOT_SUPPORTED_COMMAND_WITHOUT_HIVE_SUPPORT] CREATE Hive TABLE (AS SELECT) is not supported, if you want to enable it, please set \"spark.sql.catalogImplementation\" to \"hive\".;\n'CreateTable `spark_catalog`.`learn_spark_db`.`friends_list`, org.apache.hadoop.hive.serde2.lazy.LazySimpleSerDe, ErrorIfExists\n+- Project [userID#0, name#1, age#2, friends#3, insert_ts#13]\n   +- SubqueryAlias peoples\n      +- View (`peoples`, [userID#0,name#1,age#2,friends#3,insert_ts#13])\n         +- Sort [userID#0 ASC NULLS FIRST], true\n            +- Project [userID#0, name#1, age#2, friends#3, current_timestamp() AS insert_ts#13]\n               +- Filter (age#2 < 30)\n                  +- Project [userID#0, name#1, age#2, friends#3]\n                     +- Relation [userID#0,name#1,age#2,friends#3] csv\n"
     ]
    }
   ],
   "source": [
    "spark.sql(\"create table friends_list \")"
   ]
  },
  {
   "cell_type": "code",
   "execution_count": 60,
   "id": "aa39dc37",
   "metadata": {},
   "outputs": [
    {
     "data": {
      "text/plain": [
       "[Database(name='default', catalog='spark_catalog', description='default database', locationUri='file:/C:/Users/mesteves/Downloads/spark-warehouse'),\n",
       " Database(name='learn_spark_db', catalog='spark_catalog', description='', locationUri='file:/C:/Users/mesteves/Downloads/spark-warehouse/learn_spark_db.db')]"
      ]
     },
     "execution_count": 60,
     "metadata": {},
     "output_type": "execute_result"
    }
   ],
   "source": [
    "spark.catalog.listDatabases()"
   ]
  }
 ],
 "metadata": {
  "kernelspec": {
   "display_name": "Python 3 (ipykernel)",
   "language": "python",
   "name": "python3"
  },
  "language_info": {
   "codemirror_mode": {
    "name": "ipython",
    "version": 3
   },
   "file_extension": ".py",
   "mimetype": "text/x-python",
   "name": "python",
   "nbconvert_exporter": "python",
   "pygments_lexer": "ipython3",
   "version": "3.11.5"
  }
 },
 "nbformat": 4,
 "nbformat_minor": 5
}
