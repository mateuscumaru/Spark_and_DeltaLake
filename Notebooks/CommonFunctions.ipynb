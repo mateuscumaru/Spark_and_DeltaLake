{
 "cells": [
  {
   "cell_type": "markdown",
   "id": "94cd2ca0-a1e8-4f28-befd-db933be61a45",
   "metadata": {},
   "source": [
    "# Libraries"
   ]
  },
  {
   "cell_type": "code",
   "execution_count": 2,
   "id": "c60b0d49-beac-481b-a56a-e051db8138dd",
   "metadata": {},
   "outputs": [],
   "source": [
    "from pyspark.sql import SparkSession\n",
    "from pyspark import SparkConf\n",
    "from pyspark.sql.functions import *\n",
    "from delta import *\n",
    "from IPython.display import display\n",
    "from IPython.display import display, HTML\n",
    "import pandas as pd\n",
    "import matplotlib.pyplot as plt\n",
    "from matplotlib.ticker import ScalarFormatter, FuncFormatter\n",
    "import plotly.express as px"
   ]
  },
  {
   "cell_type": "markdown",
   "id": "070274dd-f466-40ea-9ede-7376578e0d7e",
   "metadata": {},
   "source": [
    "# Function to display the Dataframe nicely"
   ]
  },
  {
   "cell_type": "code",
   "execution_count": 34,
   "id": "f5228d6a-3c5e-4ee2-97a7-7f2c3ae87103",
   "metadata": {},
   "outputs": [
    {
     "name": "stdout",
     "output_type": "stream",
     "text": [
      "Function to display dataframe nicely: displayNiceDF\n"
     ]
    }
   ],
   "source": [
    "print(f'Function to display dataframe nicely: displayNiceDF(df, qtyRows)')\n",
    "\n",
    "def displayNiceDF(df, *arg):\n",
    "    if arg:\n",
    "        if isinstance(arg[0], int):\n",
    "            display(HTML(df.limit(arg[0]).toPandas().to_html()))\n",
    "        else:\n",
    "            print('The second argument should be a integer!')\n",
    "    else:\n",
    "        display(HTML(df.toPandas().to_html()))"
   ]
  },
  {
   "cell_type": "markdown",
   "id": "b38e0f66-42ac-4b28-96ae-2d01f5f42ba5",
   "metadata": {},
   "source": [
    "# Functions to display Charts"
   ]
  },
  {
   "cell_type": "markdown",
   "id": "fe51021e-7fde-4466-8624-c414ae91eaf9",
   "metadata": {},
   "source": [
    "## Format numbers with thousand separators"
   ]
  },
  {
   "cell_type": "code",
   "execution_count": 1,
   "id": "85ea6b0f-533b-4398-9014-100aabb0766d",
   "metadata": {},
   "outputs": [],
   "source": [
    "def format_with_commas(x, pos):\n",
    "    return '{:,.0f}'.format(x)"
   ]
  },
  {
   "cell_type": "markdown",
   "id": "107f06cb-474b-4351-a81c-74c87fd37d09",
   "metadata": {},
   "source": [
    "## Line Chart as Image"
   ]
  },
  {
   "cell_type": "code",
   "execution_count": 4,
   "id": "be8fe563-1997-4666-869f-b87e420d151f",
   "metadata": {},
   "outputs": [
    {
     "name": "stdout",
     "output_type": "stream",
     "text": [
      "Function to display Line Chart as image: displayLineChartImg\n"
     ]
    }
   ],
   "source": [
    "print(r'Function to display Line Chart as image: displayLineChartImg(df, xAxis, yAxis, title)')\n",
    "\n",
    "def displayLineChartImg(df, xAxis, yAxis, title):\n",
    "    ax = df.plot(kind='line', marker='o', linestyle='-', x=xAxis, y=yAxis, rot='vertical', figsize=(18, 6), title=title)\n",
    "\n",
    "    # Set the x-axis ticks to include all labels\n",
    "    ax.set_xticks(range(len(df[xAxis])))\n",
    "    ax.set_xticklabels(df[xAxis])\n",
    "    \n",
    "    ax.set_xlabel(xAxis.capitalize())\n",
    "    ax.set_ylabel(yAxis.capitalize())\n",
    "    \n",
    "    # Format the y-axis labels to display whole numbers with commas\n",
    "    ax.yaxis.set_major_formatter(FuncFormatter(format_with_commas))\n",
    "    \n",
    "    # Show the plot\n",
    "    plt.show()"
   ]
  },
  {
   "cell_type": "markdown",
   "id": "72da273b-b9f2-4ddd-8a29-7b58c3e55678",
   "metadata": {},
   "source": [
    "## Interactive Bar Chart"
   ]
  },
  {
   "cell_type": "code",
   "execution_count": 5,
   "id": "70213900-3d20-4743-aa9b-beb9fe066e22",
   "metadata": {},
   "outputs": [
    {
     "name": "stdout",
     "output_type": "stream",
     "text": [
      "Function to display interactive Bar Chart: displayBarChart(df, xAxis, yAxis, title)\n"
     ]
    }
   ],
   "source": [
    "print(r'Function to display interactive Bar Chart: displayBarChart(df, xAxis, yAxis, title)')\n",
    "\n",
    "def displayBarChart(df, xAxis, yAxis, title):\n",
    "    # Bar chart\n",
    "    fig_bar = px.bar(df, x=xAxis, y=yAxis, title=title)\n",
    "    \n",
    "    # Customize layout\n",
    "    fig_bar.update_layout(height=700, width=1485)\n",
    "    \n",
    "    # Display label values\n",
    "    fig_bar.update_traces(text=df[yAxis], textposition='outside')\n",
    "    \n",
    "    # Show the plot\n",
    "    fig_bar.show()"
   ]
  },
  {
   "cell_type": "markdown",
   "id": "58a0716b-8112-4459-aa32-9f0645964b64",
   "metadata": {},
   "source": [
    "## Interactive Line Chart"
   ]
  },
  {
   "cell_type": "code",
   "execution_count": 9,
   "id": "5740740b-d8a4-4a77-bc2d-63a45f29626b",
   "metadata": {},
   "outputs": [
    {
     "name": "stdout",
     "output_type": "stream",
     "text": [
      "Function to display interactive Line Chart: displayLineChart(df, xAxis, yAxis, title)\n"
     ]
    }
   ],
   "source": [
    "print(r'Function to display interactive Line Chart: displayLineChart(df, xAxis, yAxis, title)')\n",
    "\n",
    "def displayLineChart(df, xAxis, yAxis, title):\n",
    "    # Line chart\n",
    "    fig_line = px.line(df, x=xAxis, y=yAxis, title=title)\n",
    "    \n",
    "    # Customize layout\n",
    "    fig_line.update_layout(height=700, width=1485)\n",
    "    \n",
    "    # Display label values\n",
    "    fig_line.update_traces(text=df[yAxis], textposition='top center')\n",
    "    \n",
    "    # Display plots in each dot\n",
    "    fig_line.update_traces(mode='markers+lines', marker=dict(size=12, color='red'))\n",
    "    \n",
    "    # Show the plot\n",
    "    fig_line.show()"
   ]
  },
  {
   "cell_type": "code",
   "execution_count": 6,
   "id": "2d96ed21-442a-4f8e-99cf-6245294adbee",
   "metadata": {},
   "outputs": [
    {
     "ename": "SyntaxError",
     "evalue": "invalid syntax (1577924247.py, line 1)",
     "output_type": "error",
     "traceback": [
      "\u001b[1;36m  Cell \u001b[1;32mIn[6], line 1\u001b[1;36m\u001b[0m\n\u001b[1;33m    pip freeze | xargs pip show | grep -E '^(Name:|Version:|Metadata-Version:|Date:)'\u001b[0m\n\u001b[1;37m        ^\u001b[0m\n\u001b[1;31mSyntaxError\u001b[0m\u001b[1;31m:\u001b[0m invalid syntax\n"
     ]
    }
   ],
   "source": [
    "pip freeze | xargs pip show | grep -E '^(Name:|Version:|Metadata-Version:|Date:)'"
   ]
  }
 ],
 "metadata": {
  "kernelspec": {
   "display_name": "Python 3 (ipykernel)",
   "language": "python",
   "name": "python3"
  },
  "language_info": {
   "codemirror_mode": {
    "name": "ipython",
    "version": 3
   },
   "file_extension": ".py",
   "mimetype": "text/x-python",
   "name": "python",
   "nbconvert_exporter": "python",
   "pygments_lexer": "ipython3",
   "version": "3.11.5"
  }
 },
 "nbformat": 4,
 "nbformat_minor": 5
}
